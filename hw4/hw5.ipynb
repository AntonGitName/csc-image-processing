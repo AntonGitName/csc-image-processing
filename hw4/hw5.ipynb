{
 "cells": [
  {
   "cell_type": "markdown",
   "metadata": {},
   "source": [
    "# Домашнее задание №4"
   ]
  },
  {
   "cell_type": "markdown",
   "metadata": {
    "collapsed": false
   },
   "source": [
    "**1. (20 баллов)**\n",
    "\n",
    "Для папки Corel необходимо для каждого изображения, предварительно переведенного в HSV, посчитать гистограмму \n",
    "(шаг квантования выберите самостоятельно). \n",
    "После этого вычислить попарные расстояния между гистограммами с помощью метрик L2 и Хи-квадрат.\n",
    "Отсортировать полученные пары и записать имена и расстояния в файл (для каждой метрики свой, \n",
    "т.е. в конечном итоге будет два файла) в формате:\n",
    "$$\n",
    "img\\_name1 \\hphantom aimg\\_name23 \\hphantom a 66.3$$\n",
    "$$\n",
    "img\\_name5 \\hphantom aimg\\_name66 \\hphantom a 77.1,\n",
    "$$\n",
    "где в каждой строчке записаны два имени файла и расстояние между изображениями, скрывающимися за этими именами.\n",
    "Обратите внимание, что тут происходит некоторое определение расстояния между изображениями, \n",
    "а значит результат не должен быть совсем уж хаотичным, там есть группы похожих друг на друга изображений."
   ]
  },
  {
   "cell_type": "code",
   "execution_count": 1,
   "metadata": {
    "collapsed": true
   },
   "outputs": [],
   "source": [
    "from os import listdir\n",
    "from os.path import isfile, join\n",
    "img_dir = \"datasets/Corel\"\n",
    "fnames = [join(img_dir, f) for f in listdir(img_dir) if isfile(join(img_dir, f))]"
   ]
  },
  {
   "cell_type": "code",
   "execution_count": 2,
   "metadata": {
    "collapsed": true
   },
   "outputs": [],
   "source": [
    "import numpy as np\n",
    "import cv2\n",
    "import matplotlib.pylab as plt\n",
    "%matplotlib inline\n",
    "\n",
    "def show_gray(img):\n",
    "    ax = plt.axes([0,0,1,1], frameon=False)\n",
    "    ax.set_axis_off()\n",
    "    plt.imshow(img, cmap=\"gray\")\n",
    "\n",
    "def show_rgb(img):\n",
    "    ax = plt.axes([0,0,1,1], frameon=False)\n",
    "    ax.set_axis_off()\n",
    "    plt.imshow(cv2.cvtColor(img, cv2.COLOR_BGR2RGB))\n",
    "\n",
    "def show(img):\n",
    "    if img.ndim == 3:\n",
    "        show_rgb(img)\n",
    "    else:\n",
    "        show_gray(img)"
   ]
  },
  {
   "cell_type": "code",
   "execution_count": 3,
   "metadata": {
    "collapsed": false
   },
   "outputs": [],
   "source": [
    "images = [cv2.imread(f) for f in fnames]\n",
    "hsv_images = [cv2.cvtColor(img, cv2.COLOR_BGR2HSV) for img in images]"
   ]
  },
  {
   "cell_type": "code",
   "execution_count": 12,
   "metadata": {
    "collapsed": false
   },
   "outputs": [
    {
     "name": "stdout",
     "output_type": "stream",
     "text": [
      "[[[110 190 134]\n",
      "  [110 189 135]\n",
      "  [110 186 137]\n",
      "  ..., \n",
      "  [110 201 127]\n",
      "  [110 201 127]\n",
      "  [110 201 127]]\n",
      "\n",
      " [[110 190 134]\n",
      "  [110 189 135]\n",
      "  [110 186 137]\n",
      "  ..., \n",
      "  [110 201 127]\n",
      "  [110 201 127]\n",
      "  [110 201 127]]\n",
      "\n",
      " [[110 189 135]\n",
      "  [110 188 136]\n",
      "  [110 186 137]\n",
      "  ..., \n",
      "  [110 201 127]\n",
      "  [110 201 127]\n",
      "  [110 201 127]]\n",
      "\n",
      " ..., \n",
      " [[ 40 162  96]\n",
      "  [ 40 167  93]\n",
      "  [ 40 171  91]\n",
      "  ..., \n",
      "  [ 44 136 120]\n",
      "  [ 44 136 120]\n",
      "  [ 43 131 119]]\n",
      "\n",
      " [[ 42 160  89]\n",
      "  [ 42 160  89]\n",
      "  [ 42 160  89]\n",
      "  ..., \n",
      "  [ 42 147 113]\n",
      "  [ 42 148 112]\n",
      "  [ 42 149 111]]\n",
      "\n",
      " [[ 42 166  86]\n",
      "  [ 42 166  86]\n",
      "  [ 42 166  86]\n",
      "  ..., \n",
      "  [ 42 147 113]\n",
      "  [ 42 149 111]\n",
      "  [ 42 149 111]]]\n"
     ]
    }
   ],
   "source": [
    "n = len(hsv_images)\n",
    "tmp = [hsv_images[0], hsv_images[1]]\n",
    "m = len(tmp)\n",
    "histograms = cv2.calcHist(tmp, [2] * m , None, [32] * m, [0, 256] * m)\n",
    "\n",
    "print(tmp[0])\n",
    "# print(cv2.compareHist(histograms[0], histograms[1], cv2.HISTCMP_CHISQR))\n",
    "\n",
    "# histograms = cv2.calcHist(hsv_images, [2] * n , None, [32] * n, [0, 256] * n)"
   ]
  },
  {
   "cell_type": "markdown",
   "metadata": {
    "collapsed": true
   },
   "source": [
    "**2. (20 баллов)**\n",
    "Для папки leaves для каждого контура листа необходимо посчитать дескрипторы Фурье. После этого вычислить попарные расстояния между контурами (используйте метрику L2 для сравнения набора дескрипторов). Отсортировать полученные пары и записать имена в файл в формате, обозначенном в первом пункте."
   ]
  },
  {
   "cell_type": "markdown",
   "metadata": {},
   "source": [
    "Реализуте функцию, которая выводит на экран n самых лучших пар. "
   ]
  },
  {
   "cell_type": "code",
   "execution_count": 6,
   "metadata": {
    "collapsed": true
   },
   "outputs": [],
   "source": [
    "def show_nearest(n, filename):\n",
    "    pass\n",
    "\n",
    "show_nearest(20,'Corel_L2.txt')\n",
    "show_nearest(20,'Corel_Chi-squared.txt')\n",
    "show_nearest(20,'Leaves_L2.txt')"
   ]
  }
 ],
 "metadata": {
  "anaconda-cloud": {},
  "kernelspec": {
   "display_name": "Python 3",
   "language": "python",
   "name": "python3"
  },
  "language_info": {
   "codemirror_mode": {
    "name": "ipython",
    "version": 3
   },
   "file_extension": ".py",
   "mimetype": "text/x-python",
   "name": "python",
   "nbconvert_exporter": "python",
   "pygments_lexer": "ipython3",
   "version": "3.5.2"
  }
 },
 "nbformat": 4,
 "nbformat_minor": 1
}
